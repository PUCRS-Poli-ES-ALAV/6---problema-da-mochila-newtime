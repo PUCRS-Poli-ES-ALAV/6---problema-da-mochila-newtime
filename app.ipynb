{
 "cells": [
  {
   "cell_type": "code",
   "execution_count": 6,
   "metadata": {},
   "outputs": [
    {
     "name": "stdout",
     "output_type": "stream",
     "text": [
      "Resultados:\n",
      "\n",
      "FIBO-REC:\n",
      "n = 4, Resultado = 3, Tempo = 0.000000 s\n",
      "\n",
      "FIBO:\n",
      "n = 4, Resultado = 3, Tempo = 0.000000 s\n",
      "n = 128, Resultado = 251728825683549488150424261, Tempo = 0.000000 s\n",
      "\n",
      "MEMOIZED-FIBO:\n",
      "n = 4, Resultado = 3, Tempo = 0.000000 s\n",
      "n = 128, Resultado = 251728825683549488150424261, Tempo = 0.000000 s\n"
     ]
    }
   ],
   "source": [
    "import time\n",
    "\n",
    "# FIBO-REC (Recursive Fibonacci)\n",
    "def fibo_rec(n):\n",
    "    if n <= 1:\n",
    "        return n\n",
    "    return fibo_rec(n - 1) + fibo_rec(n - 2)\n",
    "\n",
    "# FIBO (Iterative Fibonacci)\n",
    "def fibo_iterative(n):\n",
    "    f = [0] * (n + 1)\n",
    "    f[0] = 0\n",
    "    f[1] = 1\n",
    "    for i in range(2, n + 1):\n",
    "        f[i] = f[i - 1] + f[i - 2]\n",
    "    return f[n]\n",
    "\n",
    "# MEMOIZED-FIBO (Memoized Fibonacci)\n",
    "def memoized_fibo(n):\n",
    "    f = [-1] * (n + 1)\n",
    "    return lookup_fibo(f, n)\n",
    "\n",
    "def lookup_fibo(f, n):\n",
    "    if f[n] >= 0:\n",
    "        return f[n]\n",
    "    if n <= 1:\n",
    "        f[n] = n\n",
    "    else:\n",
    "        f[n] = lookup_fibo(f, n - 1) + lookup_fibo(f, n - 2)\n",
    "    return f[n]\n",
    "\n",
    "# Function to test and measure execution time\n",
    "def test_fibonacci():\n",
    "    test_values = [4]\n",
    "    extended_test_values = [128]\n",
    "    \n",
    "    # Limit test values for FIBO-REC to avoid RecursionError\n",
    "    fibo_rec_test_values = [4]\n",
    "    \n",
    "    algorithms = {\n",
    "        \"FIBO-REC\": fibo_rec,\n",
    "        \"FIBO\": fibo_iterative,\n",
    "        \"MEMOIZED-FIBO\": memoized_fibo\n",
    "    }\n",
    "    \n",
    "    results = {}\n",
    "    for name, func in algorithms.items():\n",
    "        results[name] = {}\n",
    "        for n in (fibo_rec_test_values if name == \"FIBO-REC\" else test_values + extended_test_values):\n",
    "            start_time = time.time()\n",
    "            result = func(n)\n",
    "            elapsed_time = time.time() - start_time\n",
    "            results[name][n] = (result, elapsed_time)\n",
    "    \n",
    "    # Print results\n",
    "    print(\"Resultados:\")\n",
    "    for name, data in results.items():\n",
    "        print(f\"\\n{name}:\")\n",
    "        for n, (result, elapsed_time) in data.items():\n",
    "            print(f\"n = {n}, Resultado = {result}, Tempo = {elapsed_time:.6f} s\")\n",
    "\n",
    "# Run the tests\n",
    "test_fibonacci()"
   ]
  }
 ],
 "metadata": {
  "kernelspec": {
   "display_name": "Python 3",
   "language": "python",
   "name": "python3"
  },
  "language_info": {
   "codemirror_mode": {
    "name": "ipython",
    "version": 3
   },
   "file_extension": ".py",
   "mimetype": "text/x-python",
   "name": "python",
   "nbconvert_exporter": "python",
   "pygments_lexer": "ipython3",
   "version": "3.11.9"
  }
 },
 "nbformat": 4,
 "nbformat_minor": 2
}
